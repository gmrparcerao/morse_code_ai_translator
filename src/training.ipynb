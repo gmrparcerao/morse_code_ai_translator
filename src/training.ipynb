{
 "cells": [
  {
   "cell_type": "markdown",
   "metadata": {},
   "source": [
    "<h1>0 - Features engineering</h1>"
   ]
  },
  {
   "cell_type": "markdown",
   "metadata": {},
   "source": [
    "Import libraries"
   ]
  },
  {
   "cell_type": "code",
   "execution_count": 175,
   "metadata": {},
   "outputs": [],
   "source": [
    "import pandas as pd\n",
    "import os\n",
    "import numpy as np\n",
    "\n",
    "enableFeatureEngineering = True"
   ]
  },
  {
   "cell_type": "markdown",
   "metadata": {},
   "source": [
    "<h3>Create new users dataframes with features engineering</h3>"
   ]
  },
  {
   "cell_type": "code",
   "execution_count": 176,
   "metadata": {},
   "outputs": [],
   "source": [
    "# function\n",
    "maxTransitions = 6\n",
    "def returnFeaturesEnginnering(df):\n",
    "    # First column always is an \"one\"\n",
    "    df[0] = 0\n",
    "\n",
    "    dataframelenght = len(df.index)\n",
    "    dataList = []\n",
    "\n",
    "    # For cada element of dataframe, count how many transitions between 1 and 0\n",
    "    # exists\n",
    "    for i in range(0, dataframelenght):\n",
    "        # Must exist a transition in the last column to the script\n",
    "        # count corretly the number of transitions\n",
    "        line = df.iloc[i,:180]\n",
    "        if line[179] == 0:        \n",
    "            line[180] = 1\n",
    "        else:\n",
    "            line[180] = 0\n",
    "        lineT = line.T.to_list()\n",
    "        trans = np.bitwise_xor(lineT[0:-1],lineT[1:])\n",
    "        trans.tolist()\n",
    "        pos = np.where(trans == 1)\n",
    "        temp = pos[0][1:] - pos[0][0:-1]\n",
    "        # fill the line with zeros\n",
    "        tamanho = temp.__len__()\n",
    "        temp = np.resize(temp, maxTransitions)\n",
    "        for k in range(tamanho, maxTransitions):\n",
    "            temp[k] = 0\n",
    "\n",
    "        dataList.append(temp.tolist())\n",
    "\n",
    "    # Replace all the not a numbers to zeros\n",
    "    frame = pd.DataFrame(dataList)\n",
    "    frame = frame.replace (np.nan, 0)\n",
    "    return frame"
   ]
  },
  {
   "cell_type": "markdown",
   "metadata": {},
   "source": [
    "<h1>1. Prepare dataframes</h1>"
   ]
  },
  {
   "cell_type": "markdown",
   "metadata": {},
   "source": [
    "Prepare Renan's dataframe"
   ]
  },
  {
   "cell_type": "code",
   "execution_count": 177,
   "metadata": {},
   "outputs": [
    {
     "data": {
      "text/html": [
       "<div>\n",
       "<style scoped>\n",
       "    .dataframe tbody tr th:only-of-type {\n",
       "        vertical-align: middle;\n",
       "    }\n",
       "\n",
       "    .dataframe tbody tr th {\n",
       "        vertical-align: top;\n",
       "    }\n",
       "\n",
       "    .dataframe thead th {\n",
       "        text-align: right;\n",
       "    }\n",
       "</style>\n",
       "<table border=\"1\" class=\"dataframe\">\n",
       "  <thead>\n",
       "    <tr style=\"text-align: right;\">\n",
       "      <th></th>\n",
       "      <th>0</th>\n",
       "      <th>1</th>\n",
       "      <th>2</th>\n",
       "      <th>3</th>\n",
       "      <th>4</th>\n",
       "      <th>5</th>\n",
       "      <th>Target letter</th>\n",
       "      <th>Target person</th>\n",
       "    </tr>\n",
       "  </thead>\n",
       "  <tbody>\n",
       "    <tr>\n",
       "      <th>0</th>\n",
       "      <td>8</td>\n",
       "      <td>19</td>\n",
       "      <td>32</td>\n",
       "      <td>120</td>\n",
       "      <td>0</td>\n",
       "      <td>0</td>\n",
       "      <td>A</td>\n",
       "      <td>Renan</td>\n",
       "    </tr>\n",
       "    <tr>\n",
       "      <th>1</th>\n",
       "      <td>8</td>\n",
       "      <td>24</td>\n",
       "      <td>29</td>\n",
       "      <td>118</td>\n",
       "      <td>0</td>\n",
       "      <td>0</td>\n",
       "      <td>A</td>\n",
       "      <td>Renan</td>\n",
       "    </tr>\n",
       "    <tr>\n",
       "      <th>2</th>\n",
       "      <td>8</td>\n",
       "      <td>23</td>\n",
       "      <td>30</td>\n",
       "      <td>118</td>\n",
       "      <td>0</td>\n",
       "      <td>0</td>\n",
       "      <td>A</td>\n",
       "      <td>Renan</td>\n",
       "    </tr>\n",
       "    <tr>\n",
       "      <th>3</th>\n",
       "      <td>10</td>\n",
       "      <td>22</td>\n",
       "      <td>36</td>\n",
       "      <td>111</td>\n",
       "      <td>0</td>\n",
       "      <td>0</td>\n",
       "      <td>A</td>\n",
       "      <td>Renan</td>\n",
       "    </tr>\n",
       "    <tr>\n",
       "      <th>4</th>\n",
       "      <td>12</td>\n",
       "      <td>24</td>\n",
       "      <td>34</td>\n",
       "      <td>109</td>\n",
       "      <td>0</td>\n",
       "      <td>0</td>\n",
       "      <td>A</td>\n",
       "      <td>Renan</td>\n",
       "    </tr>\n",
       "    <tr>\n",
       "      <th>...</th>\n",
       "      <td>...</td>\n",
       "      <td>...</td>\n",
       "      <td>...</td>\n",
       "      <td>...</td>\n",
       "      <td>...</td>\n",
       "      <td>...</td>\n",
       "      <td>...</td>\n",
       "      <td>...</td>\n",
       "    </tr>\n",
       "    <tr>\n",
       "      <th>986</th>\n",
       "      <td>13</td>\n",
       "      <td>36</td>\n",
       "      <td>14</td>\n",
       "      <td>31</td>\n",
       "      <td>45</td>\n",
       "      <td>40</td>\n",
       "      <td>U</td>\n",
       "      <td>Renan</td>\n",
       "    </tr>\n",
       "    <tr>\n",
       "      <th>987</th>\n",
       "      <td>14</td>\n",
       "      <td>36</td>\n",
       "      <td>11</td>\n",
       "      <td>31</td>\n",
       "      <td>52</td>\n",
       "      <td>35</td>\n",
       "      <td>U</td>\n",
       "      <td>Renan</td>\n",
       "    </tr>\n",
       "    <tr>\n",
       "      <th>988</th>\n",
       "      <td>15</td>\n",
       "      <td>31</td>\n",
       "      <td>18</td>\n",
       "      <td>31</td>\n",
       "      <td>44</td>\n",
       "      <td>40</td>\n",
       "      <td>U</td>\n",
       "      <td>Renan</td>\n",
       "    </tr>\n",
       "    <tr>\n",
       "      <th>989</th>\n",
       "      <td>14</td>\n",
       "      <td>40</td>\n",
       "      <td>15</td>\n",
       "      <td>31</td>\n",
       "      <td>47</td>\n",
       "      <td>32</td>\n",
       "      <td>U</td>\n",
       "      <td>Renan</td>\n",
       "    </tr>\n",
       "    <tr>\n",
       "      <th>990</th>\n",
       "      <td>11</td>\n",
       "      <td>34</td>\n",
       "      <td>13</td>\n",
       "      <td>36</td>\n",
       "      <td>43</td>\n",
       "      <td>42</td>\n",
       "      <td>U</td>\n",
       "      <td>Renan</td>\n",
       "    </tr>\n",
       "  </tbody>\n",
       "</table>\n",
       "<p>991 rows × 8 columns</p>\n",
       "</div>"
      ],
      "text/plain": [
       "      0   1   2    3   4   5 Target letter Target person\n",
       "0     8  19  32  120   0   0             A         Renan\n",
       "1     8  24  29  118   0   0             A         Renan\n",
       "2     8  23  30  118   0   0             A         Renan\n",
       "3    10  22  36  111   0   0             A         Renan\n",
       "4    12  24  34  109   0   0             A         Renan\n",
       "..   ..  ..  ..  ...  ..  ..           ...           ...\n",
       "986  13  36  14   31  45  40             U         Renan\n",
       "987  14  36  11   31  52  35             U         Renan\n",
       "988  15  31  18   31  44  40             U         Renan\n",
       "989  14  40  15   31  47  32             U         Renan\n",
       "990  11  34  13   36  43  42             U         Renan\n",
       "\n",
       "[991 rows x 8 columns]"
      ]
     },
     "execution_count": 177,
     "metadata": {},
     "output_type": "execute_result"
    }
   ],
   "source": [
    "renan = pd.DataFrame()\n",
    "\n",
    "# for each file in directory, create a new dataframe\n",
    "folder = \"..\\\\letters\\\\Renan\"\n",
    "for directory, subfolder, files in os.walk(folder):     \n",
    "     for file in files:\n",
    "          targetLetter = file.replace(\".csv\",\"\")\n",
    "          # Create a dataframe without header and drop last column\n",
    "          df = pd.DataFrame()\n",
    "          df = pd.read_csv(os.path.join(os.path.realpath(directory), file), header=None, sep=\";\")\n",
    "          df = df.drop(180, axis=1)          \n",
    "          \n",
    "          # Execute only if available\n",
    "          if enableFeatureEngineering:\n",
    "               df = returnFeaturesEnginnering(df)\n",
    "          \n",
    "          df[\"Target letter\"] = targetLetter\n",
    "          df[\"Target person\"] = \"Renan\"\n",
    "\n",
    "          renan = pd.concat([renan,df])\n",
    "          \n",
    "renan = renan.reset_index(drop=True)\n",
    "renan          "
   ]
  },
  {
   "cell_type": "code",
   "execution_count": 178,
   "metadata": {},
   "outputs": [
    {
     "data": {
      "text/html": [
       "<div>\n",
       "<style scoped>\n",
       "    .dataframe tbody tr th:only-of-type {\n",
       "        vertical-align: middle;\n",
       "    }\n",
       "\n",
       "    .dataframe tbody tr th {\n",
       "        vertical-align: top;\n",
       "    }\n",
       "\n",
       "    .dataframe thead th {\n",
       "        text-align: right;\n",
       "    }\n",
       "</style>\n",
       "<table border=\"1\" class=\"dataframe\">\n",
       "  <thead>\n",
       "    <tr style=\"text-align: right;\">\n",
       "      <th></th>\n",
       "      <th>0</th>\n",
       "      <th>1</th>\n",
       "      <th>2</th>\n",
       "      <th>3</th>\n",
       "      <th>4</th>\n",
       "      <th>5</th>\n",
       "      <th>Target letter</th>\n",
       "      <th>Target person</th>\n",
       "    </tr>\n",
       "  </thead>\n",
       "  <tbody>\n",
       "    <tr>\n",
       "      <th>0</th>\n",
       "      <td>8</td>\n",
       "      <td>19</td>\n",
       "      <td>32</td>\n",
       "      <td>120</td>\n",
       "      <td>0</td>\n",
       "      <td>0</td>\n",
       "      <td>A</td>\n",
       "      <td>Renan</td>\n",
       "    </tr>\n",
       "    <tr>\n",
       "      <th>1</th>\n",
       "      <td>8</td>\n",
       "      <td>24</td>\n",
       "      <td>29</td>\n",
       "      <td>118</td>\n",
       "      <td>0</td>\n",
       "      <td>0</td>\n",
       "      <td>A</td>\n",
       "      <td>Renan</td>\n",
       "    </tr>\n",
       "    <tr>\n",
       "      <th>2</th>\n",
       "      <td>8</td>\n",
       "      <td>23</td>\n",
       "      <td>30</td>\n",
       "      <td>118</td>\n",
       "      <td>0</td>\n",
       "      <td>0</td>\n",
       "      <td>A</td>\n",
       "      <td>Renan</td>\n",
       "    </tr>\n",
       "    <tr>\n",
       "      <th>3</th>\n",
       "      <td>10</td>\n",
       "      <td>22</td>\n",
       "      <td>36</td>\n",
       "      <td>111</td>\n",
       "      <td>0</td>\n",
       "      <td>0</td>\n",
       "      <td>A</td>\n",
       "      <td>Renan</td>\n",
       "    </tr>\n",
       "    <tr>\n",
       "      <th>4</th>\n",
       "      <td>12</td>\n",
       "      <td>24</td>\n",
       "      <td>34</td>\n",
       "      <td>109</td>\n",
       "      <td>0</td>\n",
       "      <td>0</td>\n",
       "      <td>A</td>\n",
       "      <td>Renan</td>\n",
       "    </tr>\n",
       "    <tr>\n",
       "      <th>...</th>\n",
       "      <td>...</td>\n",
       "      <td>...</td>\n",
       "      <td>...</td>\n",
       "      <td>...</td>\n",
       "      <td>...</td>\n",
       "      <td>...</td>\n",
       "      <td>...</td>\n",
       "      <td>...</td>\n",
       "    </tr>\n",
       "    <tr>\n",
       "      <th>986</th>\n",
       "      <td>13</td>\n",
       "      <td>36</td>\n",
       "      <td>14</td>\n",
       "      <td>31</td>\n",
       "      <td>45</td>\n",
       "      <td>40</td>\n",
       "      <td>U</td>\n",
       "      <td>Renan</td>\n",
       "    </tr>\n",
       "    <tr>\n",
       "      <th>987</th>\n",
       "      <td>14</td>\n",
       "      <td>36</td>\n",
       "      <td>11</td>\n",
       "      <td>31</td>\n",
       "      <td>52</td>\n",
       "      <td>35</td>\n",
       "      <td>U</td>\n",
       "      <td>Renan</td>\n",
       "    </tr>\n",
       "    <tr>\n",
       "      <th>988</th>\n",
       "      <td>15</td>\n",
       "      <td>31</td>\n",
       "      <td>18</td>\n",
       "      <td>31</td>\n",
       "      <td>44</td>\n",
       "      <td>40</td>\n",
       "      <td>U</td>\n",
       "      <td>Renan</td>\n",
       "    </tr>\n",
       "    <tr>\n",
       "      <th>989</th>\n",
       "      <td>14</td>\n",
       "      <td>40</td>\n",
       "      <td>15</td>\n",
       "      <td>31</td>\n",
       "      <td>47</td>\n",
       "      <td>32</td>\n",
       "      <td>U</td>\n",
       "      <td>Renan</td>\n",
       "    </tr>\n",
       "    <tr>\n",
       "      <th>990</th>\n",
       "      <td>11</td>\n",
       "      <td>34</td>\n",
       "      <td>13</td>\n",
       "      <td>36</td>\n",
       "      <td>43</td>\n",
       "      <td>42</td>\n",
       "      <td>U</td>\n",
       "      <td>Renan</td>\n",
       "    </tr>\n",
       "  </tbody>\n",
       "</table>\n",
       "<p>991 rows × 8 columns</p>\n",
       "</div>"
      ],
      "text/plain": [
       "      0   1   2    3   4   5 Target letter Target person\n",
       "0     8  19  32  120   0   0             A         Renan\n",
       "1     8  24  29  118   0   0             A         Renan\n",
       "2     8  23  30  118   0   0             A         Renan\n",
       "3    10  22  36  111   0   0             A         Renan\n",
       "4    12  24  34  109   0   0             A         Renan\n",
       "..   ..  ..  ..  ...  ..  ..           ...           ...\n",
       "986  13  36  14   31  45  40             U         Renan\n",
       "987  14  36  11   31  52  35             U         Renan\n",
       "988  15  31  18   31  44  40             U         Renan\n",
       "989  14  40  15   31  47  32             U         Renan\n",
       "990  11  34  13   36  43  42             U         Renan\n",
       "\n",
       "[991 rows x 8 columns]"
      ]
     },
     "execution_count": 178,
     "metadata": {},
     "output_type": "execute_result"
    }
   ],
   "source": [
    "renan"
   ]
  },
  {
   "cell_type": "markdown",
   "metadata": {},
   "source": [
    "Prepare Claudinei's dataframe"
   ]
  },
  {
   "cell_type": "code",
   "execution_count": 179,
   "metadata": {},
   "outputs": [],
   "source": [
    "claudinei = pd.DataFrame()\n",
    "\n",
    "# for each file in directory, create a new dataframe\n",
    "folder = \"..\\\\letters\\\\Claudinei\"\n",
    "for directory, subfolder, files in os.walk(folder):     \n",
    "     for file in files:\n",
    "          targetLetter = file.replace(\".csv\",\"\")\n",
    "          # Create a dataframe without header and drop last column\n",
    "          df = pd.DataFrame()\n",
    "          df = pd.read_csv(os.path.join(os.path.realpath(directory), file), header=None, sep=\";\")\n",
    "          df = df.drop(180, axis=1)\n",
    "\n",
    "          # Execute only if available\n",
    "          if enableFeatureEngineering:\n",
    "               df = returnFeaturesEnginnering(df)\n",
    "\n",
    "          df[\"Target letter\"] = targetLetter\n",
    "          df[\"Target person\"] = \"Claudinei\"\n",
    "\n",
    "          claudinei = pd.concat([claudinei,df])\n",
    "          \n",
    "claudinei = claudinei.reset_index(drop=True)    \n"
   ]
  },
  {
   "cell_type": "markdown",
   "metadata": {},
   "source": [
    "Prepare Guilherme's dataframe"
   ]
  },
  {
   "cell_type": "code",
   "execution_count": 180,
   "metadata": {},
   "outputs": [],
   "source": [
    "guilherme = pd.DataFrame()\n",
    "\n",
    "# for each file in directory, create a new dataframe\n",
    "folder = \"..\\\\letters\\\\Guilherme\"\n",
    "for directory, subfolder, files in os.walk(folder):     \n",
    "     for file in files:\n",
    "          targetLetter = file.replace(\".csv\",\"\")\n",
    "          # Create a dataframe without header and drop last column\n",
    "          df = pd.DataFrame()\n",
    "          df = pd.read_csv(os.path.join(os.path.realpath(directory), file), header=None, sep=\";\")\n",
    "          df = df.drop(180, axis=1)\n",
    "\n",
    "          # Execute only if available\n",
    "          if enableFeatureEngineering:\n",
    "               df = returnFeaturesEnginnering(df)\n",
    "\n",
    "          df[\"Target letter\"] = targetLetter\n",
    "          df[\"Target person\"] = \"Guilherme\"\n",
    "\n",
    "          guilherme = pd.concat([guilherme,df])\n",
    "          \n",
    "guilherme = guilherme.reset_index(drop=True)    "
   ]
  },
  {
   "cell_type": "markdown",
   "metadata": {},
   "source": [
    "Merge the group dataframe"
   ]
  },
  {
   "cell_type": "code",
   "execution_count": 181,
   "metadata": {},
   "outputs": [
    {
     "data": {
      "text/html": [
       "<div>\n",
       "<style scoped>\n",
       "    .dataframe tbody tr th:only-of-type {\n",
       "        vertical-align: middle;\n",
       "    }\n",
       "\n",
       "    .dataframe tbody tr th {\n",
       "        vertical-align: top;\n",
       "    }\n",
       "\n",
       "    .dataframe thead th {\n",
       "        text-align: right;\n",
       "    }\n",
       "</style>\n",
       "<table border=\"1\" class=\"dataframe\">\n",
       "  <thead>\n",
       "    <tr style=\"text-align: right;\">\n",
       "      <th></th>\n",
       "      <th>First cicle in 1</th>\n",
       "      <th>First cicle in 0</th>\n",
       "      <th>Second cicle in 1</th>\n",
       "      <th>Second cicle in 0</th>\n",
       "      <th>Third cicle in 1</th>\n",
       "      <th>Third cicle in 0</th>\n",
       "      <th>Target Letter</th>\n",
       "      <th>Target person</th>\n",
       "    </tr>\n",
       "  </thead>\n",
       "  <tbody>\n",
       "    <tr>\n",
       "      <th>0</th>\n",
       "      <td>8</td>\n",
       "      <td>19</td>\n",
       "      <td>32</td>\n",
       "      <td>120</td>\n",
       "      <td>0</td>\n",
       "      <td>0</td>\n",
       "      <td>A</td>\n",
       "      <td>Renan</td>\n",
       "    </tr>\n",
       "    <tr>\n",
       "      <th>1</th>\n",
       "      <td>8</td>\n",
       "      <td>24</td>\n",
       "      <td>29</td>\n",
       "      <td>118</td>\n",
       "      <td>0</td>\n",
       "      <td>0</td>\n",
       "      <td>A</td>\n",
       "      <td>Renan</td>\n",
       "    </tr>\n",
       "    <tr>\n",
       "      <th>2</th>\n",
       "      <td>8</td>\n",
       "      <td>23</td>\n",
       "      <td>30</td>\n",
       "      <td>118</td>\n",
       "      <td>0</td>\n",
       "      <td>0</td>\n",
       "      <td>A</td>\n",
       "      <td>Renan</td>\n",
       "    </tr>\n",
       "    <tr>\n",
       "      <th>3</th>\n",
       "      <td>10</td>\n",
       "      <td>22</td>\n",
       "      <td>36</td>\n",
       "      <td>111</td>\n",
       "      <td>0</td>\n",
       "      <td>0</td>\n",
       "      <td>A</td>\n",
       "      <td>Renan</td>\n",
       "    </tr>\n",
       "    <tr>\n",
       "      <th>4</th>\n",
       "      <td>12</td>\n",
       "      <td>24</td>\n",
       "      <td>34</td>\n",
       "      <td>109</td>\n",
       "      <td>0</td>\n",
       "      <td>0</td>\n",
       "      <td>A</td>\n",
       "      <td>Renan</td>\n",
       "    </tr>\n",
       "    <tr>\n",
       "      <th>...</th>\n",
       "      <td>...</td>\n",
       "      <td>...</td>\n",
       "      <td>...</td>\n",
       "      <td>...</td>\n",
       "      <td>...</td>\n",
       "      <td>...</td>\n",
       "      <td>...</td>\n",
       "      <td>...</td>\n",
       "    </tr>\n",
       "    <tr>\n",
       "      <th>3322</th>\n",
       "      <td>11</td>\n",
       "      <td>8</td>\n",
       "      <td>11</td>\n",
       "      <td>14</td>\n",
       "      <td>17</td>\n",
       "      <td>118</td>\n",
       "      <td>O</td>\n",
       "      <td>Guilherme</td>\n",
       "    </tr>\n",
       "    <tr>\n",
       "      <th>3323</th>\n",
       "      <td>12</td>\n",
       "      <td>7</td>\n",
       "      <td>12</td>\n",
       "      <td>8</td>\n",
       "      <td>17</td>\n",
       "      <td>123</td>\n",
       "      <td>O</td>\n",
       "      <td>Guilherme</td>\n",
       "    </tr>\n",
       "    <tr>\n",
       "      <th>3324</th>\n",
       "      <td>11</td>\n",
       "      <td>10</td>\n",
       "      <td>11</td>\n",
       "      <td>8</td>\n",
       "      <td>12</td>\n",
       "      <td>127</td>\n",
       "      <td>O</td>\n",
       "      <td>Guilherme</td>\n",
       "    </tr>\n",
       "    <tr>\n",
       "      <th>3325</th>\n",
       "      <td>11</td>\n",
       "      <td>10</td>\n",
       "      <td>11</td>\n",
       "      <td>8</td>\n",
       "      <td>12</td>\n",
       "      <td>127</td>\n",
       "      <td>O</td>\n",
       "      <td>Guilherme</td>\n",
       "    </tr>\n",
       "    <tr>\n",
       "      <th>3326</th>\n",
       "      <td>11</td>\n",
       "      <td>9</td>\n",
       "      <td>10</td>\n",
       "      <td>7</td>\n",
       "      <td>12</td>\n",
       "      <td>130</td>\n",
       "      <td>O</td>\n",
       "      <td>Guilherme</td>\n",
       "    </tr>\n",
       "  </tbody>\n",
       "</table>\n",
       "<p>3327 rows × 8 columns</p>\n",
       "</div>"
      ],
      "text/plain": [
       "      First cicle in 1  First cicle in 0  Second cicle in 1  \\\n",
       "0                    8                19                 32   \n",
       "1                    8                24                 29   \n",
       "2                    8                23                 30   \n",
       "3                   10                22                 36   \n",
       "4                   12                24                 34   \n",
       "...                ...               ...                ...   \n",
       "3322                11                 8                 11   \n",
       "3323                12                 7                 12   \n",
       "3324                11                10                 11   \n",
       "3325                11                10                 11   \n",
       "3326                11                 9                 10   \n",
       "\n",
       "      Second cicle in 0  Third cicle in 1  Third cicle in 0 Target Letter  \\\n",
       "0                   120                 0                 0             A   \n",
       "1                   118                 0                 0             A   \n",
       "2                   118                 0                 0             A   \n",
       "3                   111                 0                 0             A   \n",
       "4                   109                 0                 0             A   \n",
       "...                 ...               ...               ...           ...   \n",
       "3322                 14                17               118             O   \n",
       "3323                  8                17               123             O   \n",
       "3324                  8                12               127             O   \n",
       "3325                  8                12               127             O   \n",
       "3326                  7                12               130             O   \n",
       "\n",
       "     Target person  \n",
       "0            Renan  \n",
       "1            Renan  \n",
       "2            Renan  \n",
       "3            Renan  \n",
       "4            Renan  \n",
       "...            ...  \n",
       "3322     Guilherme  \n",
       "3323     Guilherme  \n",
       "3324     Guilherme  \n",
       "3325     Guilherme  \n",
       "3326     Guilherme  \n",
       "\n",
       "[3327 rows x 8 columns]"
      ]
     },
     "execution_count": 181,
     "metadata": {},
     "output_type": "execute_result"
    }
   ],
   "source": [
    "groupDataframe = pd.concat([renan,claudinei,guilherme])\n",
    "groupDataframe = groupDataframe.reset_index(drop=True)\n",
    "\n",
    "# Execute only if available\n",
    "if enableFeatureEngineering:\n",
    "    groupDataframe.columns = [\"First cicle in 1\", \"First cicle in 0\", \"Second cicle in 1\", \"Second cicle in 0\", \"Third cicle in 1\", \"Third cicle in 0\", \"Target Letter\", \"Target person\"]\n",
    "\n",
    "groupDataframe"
   ]
  },
  {
   "cell_type": "markdown",
   "metadata": {},
   "source": [
    "<h1>2. Training</h1>"
   ]
  },
  {
   "cell_type": "markdown",
   "metadata": {},
   "source": [
    "Merge dataframes"
   ]
  },
  {
   "cell_type": "code",
   "execution_count": 182,
   "metadata": {},
   "outputs": [],
   "source": [
    "import pandas as pd"
   ]
  },
  {
   "cell_type": "markdown",
   "metadata": {},
   "source": [
    "<h3>2.1 Neural network</h3>"
   ]
  },
  {
   "cell_type": "markdown",
   "metadata": {},
   "source": [
    "Import libraries"
   ]
  },
  {
   "cell_type": "code",
   "execution_count": 183,
   "metadata": {},
   "outputs": [],
   "source": [
    "import numpy as np\n",
    "import random\n",
    "import matplotlib.pyplot as plt\n",
    "\n",
    "from sklearn.neural_network import MLPClassifier\n",
    "from sklearn.model_selection import train_test_split\n",
    "from sklearn.metrics import confusion_matrix, ConfusionMatrixDisplay\n",
    "from sklearn.metrics import classification_report\n"
   ]
  },
  {
   "cell_type": "markdown",
   "metadata": {},
   "source": [
    "<h2>Preparation for training</h2>"
   ]
  },
  {
   "cell_type": "code",
   "execution_count": 184,
   "metadata": {},
   "outputs": [
    {
     "data": {
      "text/html": [
       "<div>\n",
       "<style scoped>\n",
       "    .dataframe tbody tr th:only-of-type {\n",
       "        vertical-align: middle;\n",
       "    }\n",
       "\n",
       "    .dataframe tbody tr th {\n",
       "        vertical-align: top;\n",
       "    }\n",
       "\n",
       "    .dataframe thead th {\n",
       "        text-align: right;\n",
       "    }\n",
       "</style>\n",
       "<table border=\"1\" class=\"dataframe\">\n",
       "  <thead>\n",
       "    <tr style=\"text-align: right;\">\n",
       "      <th></th>\n",
       "      <th>First cicle in 1</th>\n",
       "      <th>First cicle in 0</th>\n",
       "      <th>Second cicle in 1</th>\n",
       "      <th>Second cicle in 0</th>\n",
       "      <th>Third cicle in 1</th>\n",
       "      <th>Third cicle in 0</th>\n",
       "    </tr>\n",
       "  </thead>\n",
       "  <tbody>\n",
       "    <tr>\n",
       "      <th>0</th>\n",
       "      <td>8</td>\n",
       "      <td>19</td>\n",
       "      <td>32</td>\n",
       "      <td>120</td>\n",
       "      <td>0</td>\n",
       "      <td>0</td>\n",
       "    </tr>\n",
       "    <tr>\n",
       "      <th>1</th>\n",
       "      <td>8</td>\n",
       "      <td>24</td>\n",
       "      <td>29</td>\n",
       "      <td>118</td>\n",
       "      <td>0</td>\n",
       "      <td>0</td>\n",
       "    </tr>\n",
       "    <tr>\n",
       "      <th>2</th>\n",
       "      <td>8</td>\n",
       "      <td>23</td>\n",
       "      <td>30</td>\n",
       "      <td>118</td>\n",
       "      <td>0</td>\n",
       "      <td>0</td>\n",
       "    </tr>\n",
       "    <tr>\n",
       "      <th>3</th>\n",
       "      <td>10</td>\n",
       "      <td>22</td>\n",
       "      <td>36</td>\n",
       "      <td>111</td>\n",
       "      <td>0</td>\n",
       "      <td>0</td>\n",
       "    </tr>\n",
       "    <tr>\n",
       "      <th>4</th>\n",
       "      <td>12</td>\n",
       "      <td>24</td>\n",
       "      <td>34</td>\n",
       "      <td>109</td>\n",
       "      <td>0</td>\n",
       "      <td>0</td>\n",
       "    </tr>\n",
       "    <tr>\n",
       "      <th>...</th>\n",
       "      <td>...</td>\n",
       "      <td>...</td>\n",
       "      <td>...</td>\n",
       "      <td>...</td>\n",
       "      <td>...</td>\n",
       "      <td>...</td>\n",
       "    </tr>\n",
       "    <tr>\n",
       "      <th>3322</th>\n",
       "      <td>11</td>\n",
       "      <td>8</td>\n",
       "      <td>11</td>\n",
       "      <td>14</td>\n",
       "      <td>17</td>\n",
       "      <td>118</td>\n",
       "    </tr>\n",
       "    <tr>\n",
       "      <th>3323</th>\n",
       "      <td>12</td>\n",
       "      <td>7</td>\n",
       "      <td>12</td>\n",
       "      <td>8</td>\n",
       "      <td>17</td>\n",
       "      <td>123</td>\n",
       "    </tr>\n",
       "    <tr>\n",
       "      <th>3324</th>\n",
       "      <td>11</td>\n",
       "      <td>10</td>\n",
       "      <td>11</td>\n",
       "      <td>8</td>\n",
       "      <td>12</td>\n",
       "      <td>127</td>\n",
       "    </tr>\n",
       "    <tr>\n",
       "      <th>3325</th>\n",
       "      <td>11</td>\n",
       "      <td>10</td>\n",
       "      <td>11</td>\n",
       "      <td>8</td>\n",
       "      <td>12</td>\n",
       "      <td>127</td>\n",
       "    </tr>\n",
       "    <tr>\n",
       "      <th>3326</th>\n",
       "      <td>11</td>\n",
       "      <td>9</td>\n",
       "      <td>10</td>\n",
       "      <td>7</td>\n",
       "      <td>12</td>\n",
       "      <td>130</td>\n",
       "    </tr>\n",
       "  </tbody>\n",
       "</table>\n",
       "<p>3327 rows × 6 columns</p>\n",
       "</div>"
      ],
      "text/plain": [
       "      First cicle in 1  First cicle in 0  Second cicle in 1  \\\n",
       "0                    8                19                 32   \n",
       "1                    8                24                 29   \n",
       "2                    8                23                 30   \n",
       "3                   10                22                 36   \n",
       "4                   12                24                 34   \n",
       "...                ...               ...                ...   \n",
       "3322                11                 8                 11   \n",
       "3323                12                 7                 12   \n",
       "3324                11                10                 11   \n",
       "3325                11                10                 11   \n",
       "3326                11                 9                 10   \n",
       "\n",
       "      Second cicle in 0  Third cicle in 1  Third cicle in 0  \n",
       "0                   120                 0                 0  \n",
       "1                   118                 0                 0  \n",
       "2                   118                 0                 0  \n",
       "3                   111                 0                 0  \n",
       "4                   109                 0                 0  \n",
       "...                 ...               ...               ...  \n",
       "3322                 14                17               118  \n",
       "3323                  8                17               123  \n",
       "3324                  8                12               127  \n",
       "3325                  8                12               127  \n",
       "3326                  7                12               130  \n",
       "\n",
       "[3327 rows x 6 columns]"
      ]
     },
     "execution_count": 184,
     "metadata": {},
     "output_type": "execute_result"
    }
   ],
   "source": [
    "# Execute only if available\n",
    "if enableFeatureEngineering:\n",
    "    X = groupDataframe.iloc[:,0:maxTransitions]\n",
    "else:\n",
    "    X = groupDataframe.iloc[:,0:180]\n",
    "X"
   ]
  },
  {
   "cell_type": "markdown",
   "metadata": {},
   "source": [
    "Letter as target"
   ]
  },
  {
   "cell_type": "code",
   "execution_count": 185,
   "metadata": {},
   "outputs": [
    {
     "data": {
      "text/plain": [
       "0       A\n",
       "1       A\n",
       "2       A\n",
       "3       A\n",
       "4       A\n",
       "       ..\n",
       "3322    O\n",
       "3323    O\n",
       "3324    O\n",
       "3325    O\n",
       "3326    O\n",
       "Name: Target Letter, Length: 3327, dtype: object"
      ]
     },
     "execution_count": 185,
     "metadata": {},
     "output_type": "execute_result"
    }
   ],
   "source": [
    "# Execute only if available\n",
    "if enableFeatureEngineering:\n",
    "    Y1 = groupDataframe.iloc[:,maxTransitions]\n",
    "else:\n",
    "    Y1 = groupDataframe.iloc[:,180]\n",
    "Y1"
   ]
  },
  {
   "cell_type": "markdown",
   "metadata": {},
   "source": [
    "Person as target"
   ]
  },
  {
   "cell_type": "code",
   "execution_count": 186,
   "metadata": {},
   "outputs": [
    {
     "data": {
      "text/plain": [
       "0           Renan\n",
       "1           Renan\n",
       "2           Renan\n",
       "3           Renan\n",
       "4           Renan\n",
       "          ...    \n",
       "3322    Guilherme\n",
       "3323    Guilherme\n",
       "3324    Guilherme\n",
       "3325    Guilherme\n",
       "3326    Guilherme\n",
       "Name: Target person, Length: 3327, dtype: object"
      ]
     },
     "execution_count": 186,
     "metadata": {},
     "output_type": "execute_result"
    }
   ],
   "source": [
    "# Execute only if available\n",
    "if enableFeatureEngineering:    \n",
    "    Y2 = groupDataframe.iloc[:,maxTransitions+1]\n",
    "else:\n",
    "    Y2 = groupDataframe.iloc[:,181]\n",
    "Y2"
   ]
  },
  {
   "cell_type": "markdown",
   "metadata": {},
   "source": [
    "Create data for training and for testing"
   ]
  },
  {
   "cell_type": "code",
   "execution_count": 187,
   "metadata": {},
   "outputs": [],
   "source": [
    "seed = random.randrange(1268) \n",
    "\n",
    "X1_train, X1_test, y1_train, y1_test = train_test_split(X, Y1, test_size=0.3, random_state=4845)\n",
    "X2_train, X2_test, y2_train, y2_test = train_test_split(X, Y2, test_size=0.3, random_state=478)"
   ]
  },
  {
   "cell_type": "markdown",
   "metadata": {},
   "source": [
    "<h3>Training</h3>"
   ]
  },
  {
   "cell_type": "code",
   "execution_count": 188,
   "metadata": {},
   "outputs": [
    {
     "data": {
      "text/html": [
       "<style>#sk-container-id-20 {color: black;background-color: white;}#sk-container-id-20 pre{padding: 0;}#sk-container-id-20 div.sk-toggleable {background-color: white;}#sk-container-id-20 label.sk-toggleable__label {cursor: pointer;display: block;width: 100%;margin-bottom: 0;padding: 0.3em;box-sizing: border-box;text-align: center;}#sk-container-id-20 label.sk-toggleable__label-arrow:before {content: \"▸\";float: left;margin-right: 0.25em;color: #696969;}#sk-container-id-20 label.sk-toggleable__label-arrow:hover:before {color: black;}#sk-container-id-20 div.sk-estimator:hover label.sk-toggleable__label-arrow:before {color: black;}#sk-container-id-20 div.sk-toggleable__content {max-height: 0;max-width: 0;overflow: hidden;text-align: left;background-color: #f0f8ff;}#sk-container-id-20 div.sk-toggleable__content pre {margin: 0.2em;color: black;border-radius: 0.25em;background-color: #f0f8ff;}#sk-container-id-20 input.sk-toggleable__control:checked~div.sk-toggleable__content {max-height: 200px;max-width: 100%;overflow: auto;}#sk-container-id-20 input.sk-toggleable__control:checked~label.sk-toggleable__label-arrow:before {content: \"▾\";}#sk-container-id-20 div.sk-estimator input.sk-toggleable__control:checked~label.sk-toggleable__label {background-color: #d4ebff;}#sk-container-id-20 div.sk-label input.sk-toggleable__control:checked~label.sk-toggleable__label {background-color: #d4ebff;}#sk-container-id-20 input.sk-hidden--visually {border: 0;clip: rect(1px 1px 1px 1px);clip: rect(1px, 1px, 1px, 1px);height: 1px;margin: -1px;overflow: hidden;padding: 0;position: absolute;width: 1px;}#sk-container-id-20 div.sk-estimator {font-family: monospace;background-color: #f0f8ff;border: 1px dotted black;border-radius: 0.25em;box-sizing: border-box;margin-bottom: 0.5em;}#sk-container-id-20 div.sk-estimator:hover {background-color: #d4ebff;}#sk-container-id-20 div.sk-parallel-item::after {content: \"\";width: 100%;border-bottom: 1px solid gray;flex-grow: 1;}#sk-container-id-20 div.sk-label:hover label.sk-toggleable__label {background-color: #d4ebff;}#sk-container-id-20 div.sk-serial::before {content: \"\";position: absolute;border-left: 1px solid gray;box-sizing: border-box;top: 0;bottom: 0;left: 50%;z-index: 0;}#sk-container-id-20 div.sk-serial {display: flex;flex-direction: column;align-items: center;background-color: white;padding-right: 0.2em;padding-left: 0.2em;position: relative;}#sk-container-id-20 div.sk-item {position: relative;z-index: 1;}#sk-container-id-20 div.sk-parallel {display: flex;align-items: stretch;justify-content: center;background-color: white;position: relative;}#sk-container-id-20 div.sk-item::before, #sk-container-id-20 div.sk-parallel-item::before {content: \"\";position: absolute;border-left: 1px solid gray;box-sizing: border-box;top: 0;bottom: 0;left: 50%;z-index: -1;}#sk-container-id-20 div.sk-parallel-item {display: flex;flex-direction: column;z-index: 1;position: relative;background-color: white;}#sk-container-id-20 div.sk-parallel-item:first-child::after {align-self: flex-end;width: 50%;}#sk-container-id-20 div.sk-parallel-item:last-child::after {align-self: flex-start;width: 50%;}#sk-container-id-20 div.sk-parallel-item:only-child::after {width: 0;}#sk-container-id-20 div.sk-dashed-wrapped {border: 1px dashed gray;margin: 0 0.4em 0.5em 0.4em;box-sizing: border-box;padding-bottom: 0.4em;background-color: white;}#sk-container-id-20 div.sk-label label {font-family: monospace;font-weight: bold;display: inline-block;line-height: 1.2em;}#sk-container-id-20 div.sk-label-container {text-align: center;}#sk-container-id-20 div.sk-container {/* jupyter's `normalize.less` sets `[hidden] { display: none; }` but bootstrap.min.css set `[hidden] { display: none !important; }` so we also need the `!important` here to be able to override the default hidden behavior on the sphinx rendered scikit-learn.org. See: https://github.com/scikit-learn/scikit-learn/issues/21755 */display: inline-block !important;position: relative;}#sk-container-id-20 div.sk-text-repr-fallback {display: none;}</style><div id=\"sk-container-id-20\" class=\"sk-top-container\"><div class=\"sk-text-repr-fallback\"><pre>MLPClassifier(activation=&#x27;logistic&#x27;, hidden_layer_sizes=(3, 6), max_iter=20000,\n",
       "              random_state=1)</pre><b>In a Jupyter environment, please rerun this cell to show the HTML representation or trust the notebook. <br />On GitHub, the HTML representation is unable to render, please try loading this page with nbviewer.org.</b></div><div class=\"sk-container\" hidden><div class=\"sk-item\"><div class=\"sk-estimator sk-toggleable\"><input class=\"sk-toggleable__control sk-hidden--visually\" id=\"sk-estimator-id-20\" type=\"checkbox\" checked><label for=\"sk-estimator-id-20\" class=\"sk-toggleable__label sk-toggleable__label-arrow\">MLPClassifier</label><div class=\"sk-toggleable__content\"><pre>MLPClassifier(activation=&#x27;logistic&#x27;, hidden_layer_sizes=(3, 6), max_iter=20000,\n",
       "              random_state=1)</pre></div></div></div></div></div>"
      ],
      "text/plain": [
       "MLPClassifier(activation='logistic', hidden_layer_sizes=(3, 6), max_iter=20000,\n",
       "              random_state=1)"
      ]
     },
     "execution_count": 188,
     "metadata": {},
     "output_type": "execute_result"
    }
   ],
   "source": [
    "seed = random.randrange(1268) \n",
    "clf1 = MLPClassifier(solver='adam', alpha=1e-4, hidden_layer_sizes=(3,6), random_state=1, max_iter=20000, activation='logistic') #2 camadas ocultas com 2 neurônios\n",
    "clf1.fit(X1_train, np.ravel(y1_train))"
   ]
  },
  {
   "cell_type": "code",
   "execution_count": 189,
   "metadata": {},
   "outputs": [
    {
     "data": {
      "text/html": [
       "<style>#sk-container-id-21 {color: black;background-color: white;}#sk-container-id-21 pre{padding: 0;}#sk-container-id-21 div.sk-toggleable {background-color: white;}#sk-container-id-21 label.sk-toggleable__label {cursor: pointer;display: block;width: 100%;margin-bottom: 0;padding: 0.3em;box-sizing: border-box;text-align: center;}#sk-container-id-21 label.sk-toggleable__label-arrow:before {content: \"▸\";float: left;margin-right: 0.25em;color: #696969;}#sk-container-id-21 label.sk-toggleable__label-arrow:hover:before {color: black;}#sk-container-id-21 div.sk-estimator:hover label.sk-toggleable__label-arrow:before {color: black;}#sk-container-id-21 div.sk-toggleable__content {max-height: 0;max-width: 0;overflow: hidden;text-align: left;background-color: #f0f8ff;}#sk-container-id-21 div.sk-toggleable__content pre {margin: 0.2em;color: black;border-radius: 0.25em;background-color: #f0f8ff;}#sk-container-id-21 input.sk-toggleable__control:checked~div.sk-toggleable__content {max-height: 200px;max-width: 100%;overflow: auto;}#sk-container-id-21 input.sk-toggleable__control:checked~label.sk-toggleable__label-arrow:before {content: \"▾\";}#sk-container-id-21 div.sk-estimator input.sk-toggleable__control:checked~label.sk-toggleable__label {background-color: #d4ebff;}#sk-container-id-21 div.sk-label input.sk-toggleable__control:checked~label.sk-toggleable__label {background-color: #d4ebff;}#sk-container-id-21 input.sk-hidden--visually {border: 0;clip: rect(1px 1px 1px 1px);clip: rect(1px, 1px, 1px, 1px);height: 1px;margin: -1px;overflow: hidden;padding: 0;position: absolute;width: 1px;}#sk-container-id-21 div.sk-estimator {font-family: monospace;background-color: #f0f8ff;border: 1px dotted black;border-radius: 0.25em;box-sizing: border-box;margin-bottom: 0.5em;}#sk-container-id-21 div.sk-estimator:hover {background-color: #d4ebff;}#sk-container-id-21 div.sk-parallel-item::after {content: \"\";width: 100%;border-bottom: 1px solid gray;flex-grow: 1;}#sk-container-id-21 div.sk-label:hover label.sk-toggleable__label {background-color: #d4ebff;}#sk-container-id-21 div.sk-serial::before {content: \"\";position: absolute;border-left: 1px solid gray;box-sizing: border-box;top: 0;bottom: 0;left: 50%;z-index: 0;}#sk-container-id-21 div.sk-serial {display: flex;flex-direction: column;align-items: center;background-color: white;padding-right: 0.2em;padding-left: 0.2em;position: relative;}#sk-container-id-21 div.sk-item {position: relative;z-index: 1;}#sk-container-id-21 div.sk-parallel {display: flex;align-items: stretch;justify-content: center;background-color: white;position: relative;}#sk-container-id-21 div.sk-item::before, #sk-container-id-21 div.sk-parallel-item::before {content: \"\";position: absolute;border-left: 1px solid gray;box-sizing: border-box;top: 0;bottom: 0;left: 50%;z-index: -1;}#sk-container-id-21 div.sk-parallel-item {display: flex;flex-direction: column;z-index: 1;position: relative;background-color: white;}#sk-container-id-21 div.sk-parallel-item:first-child::after {align-self: flex-end;width: 50%;}#sk-container-id-21 div.sk-parallel-item:last-child::after {align-self: flex-start;width: 50%;}#sk-container-id-21 div.sk-parallel-item:only-child::after {width: 0;}#sk-container-id-21 div.sk-dashed-wrapped {border: 1px dashed gray;margin: 0 0.4em 0.5em 0.4em;box-sizing: border-box;padding-bottom: 0.4em;background-color: white;}#sk-container-id-21 div.sk-label label {font-family: monospace;font-weight: bold;display: inline-block;line-height: 1.2em;}#sk-container-id-21 div.sk-label-container {text-align: center;}#sk-container-id-21 div.sk-container {/* jupyter's `normalize.less` sets `[hidden] { display: none; }` but bootstrap.min.css set `[hidden] { display: none !important; }` so we also need the `!important` here to be able to override the default hidden behavior on the sphinx rendered scikit-learn.org. See: https://github.com/scikit-learn/scikit-learn/issues/21755 */display: inline-block !important;position: relative;}#sk-container-id-21 div.sk-text-repr-fallback {display: none;}</style><div id=\"sk-container-id-21\" class=\"sk-top-container\"><div class=\"sk-text-repr-fallback\"><pre>MLPClassifier(alpha=1e-05, hidden_layer_sizes=(150, 120), max_iter=5000,\n",
       "              random_state=337, solver=&#x27;sgd&#x27;)</pre><b>In a Jupyter environment, please rerun this cell to show the HTML representation or trust the notebook. <br />On GitHub, the HTML representation is unable to render, please try loading this page with nbviewer.org.</b></div><div class=\"sk-container\" hidden><div class=\"sk-item\"><div class=\"sk-estimator sk-toggleable\"><input class=\"sk-toggleable__control sk-hidden--visually\" id=\"sk-estimator-id-21\" type=\"checkbox\" checked><label for=\"sk-estimator-id-21\" class=\"sk-toggleable__label sk-toggleable__label-arrow\">MLPClassifier</label><div class=\"sk-toggleable__content\"><pre>MLPClassifier(alpha=1e-05, hidden_layer_sizes=(150, 120), max_iter=5000,\n",
       "              random_state=337, solver=&#x27;sgd&#x27;)</pre></div></div></div></div></div>"
      ],
      "text/plain": [
       "MLPClassifier(alpha=1e-05, hidden_layer_sizes=(150, 120), max_iter=5000,\n",
       "              random_state=337, solver='sgd')"
      ]
     },
     "execution_count": 189,
     "metadata": {},
     "output_type": "execute_result"
    }
   ],
   "source": [
    "seed = random.randrange(1268) \n",
    "clf2 = MLPClassifier(solver='sgd', alpha=1e-5, hidden_layer_sizes=(150,120), random_state=seed, max_iter=5000, activation='relu') #2 camadas ocultas com 2 neurônios\n",
    "clf2.fit(X2_train, np.ravel(y2_train))"
   ]
  },
  {
   "cell_type": "markdown",
   "metadata": {},
   "source": [
    "Testing"
   ]
  },
  {
   "cell_type": "code",
   "execution_count": 190,
   "metadata": {},
   "outputs": [
    {
     "data": {
      "image/png": "[encoded data removed]",
      "text/plain": [
       "<Figure size 432x288 with 2 Axes>"
      ]
     },
     "metadata": {
      "needs_background": "light"
     },
     "output_type": "display_data"
    }
   ],
   "source": [
    "y1_pred = clf1.predict(X1_test)\n",
    "ConfusionMatrixDisplay.from_predictions(y1_test, y1_pred)\n",
    "plt.title('Classifier neural network')\n",
    "plt.show()"
   ]
  },
  {
   "cell_type": "code",
   "execution_count": 191,
   "metadata": {},
   "outputs": [
    {
     "data": {
      "image/png": "[encoded data removed]",
      "text/plain": [
       "<Figure size 432x288 with 2 Axes>"
      ]
     },
     "metadata": {
      "needs_background": "light"
     },
     "output_type": "display_data"
    }
   ],
   "source": [
    "y2_pred = clf2.predict(X2_test)\n",
    "ConfusionMatrixDisplay.from_predictions(y2_test, y2_pred)\n",
    "plt.title('Classifier neural network')\n",
    "plt.show()"
   ]
  },
  {
   "cell_type": "code",
   "execution_count": 192,
   "metadata": {},
   "outputs": [
    {
     "name": "stdout",
     "output_type": "stream",
     "text": [
      "              precision    recall  f1-score   support\n",
      "\n",
      "           A       0.86      1.00      0.92       227\n",
      "           E       0.99      0.95      0.97       206\n",
      "           I       0.94      0.98      0.96       204\n",
      "           O       0.98      0.83      0.90       230\n",
      "           U       0.98      0.98      0.98       132\n",
      "\n",
      "    accuracy                           0.94       999\n",
      "   macro avg       0.95      0.95      0.95       999\n",
      "weighted avg       0.95      0.94      0.94       999\n",
      "\n"
     ]
    }
   ],
   "source": [
    "print(classification_report(y1_test, y1_pred))"
   ]
  },
  {
   "cell_type": "code",
   "execution_count": 193,
   "metadata": {},
   "outputs": [
    {
     "name": "stdout",
     "output_type": "stream",
     "text": [
      "              precision    recall  f1-score   support\n",
      "\n",
      "   Claudinei       0.78      0.92      0.84       327\n",
      "   Guilherme       0.92      0.56      0.70       402\n",
      "       Renan       0.68      0.92      0.78       270\n",
      "\n",
      "    accuracy                           0.78       999\n",
      "   macro avg       0.79      0.80      0.77       999\n",
      "weighted avg       0.81      0.78      0.77       999\n",
      "\n"
     ]
    }
   ],
   "source": [
    "print(classification_report(y2_test, y2_pred))"
   ]
  }
 ],
 "metadata": {
  "kernelspec": {
   "display_name": "Python 3.10.4 64-bit",
   "language": "python",
   "name": "python3"
  },
  "language_info": {
   "codemirror_mode": {
    "name": "ipython",
    "version": 3
   },
   "file_extension": ".py",
   "mimetype": "text/x-python",
   "name": "python",
   "nbconvert_exporter": "python",
   "pygments_lexer": "ipython3",
   "version": "3.10.4"
  },
  "orig_nbformat": 4,
  "vscode": {
   "interpreter": {
    "hash": "9a84d6694d99063d2bb0286ebc4a83b7a5fbbe8812bdd85c9b7227af9c494503"
   }
  }
 },
 "nbformat": 4,
 "nbformat_minor": 2
}
